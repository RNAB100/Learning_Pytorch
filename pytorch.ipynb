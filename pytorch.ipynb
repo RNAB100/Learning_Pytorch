{
  "nbformat": 4,
  "nbformat_minor": 0,
  "metadata": {
    "colab": {
      "provenance": [],
      "authorship_tag": "ABX9TyPPZ+doGsWnkWrLa6mVYYeA",
      "include_colab_link": true
    },
    "kernelspec": {
      "name": "python3",
      "display_name": "Python 3"
    },
    "language_info": {
      "name": "python"
    }
  },
  "cells": [
    {
      "cell_type": "markdown",
      "metadata": {
        "id": "view-in-github",
        "colab_type": "text"
      },
      "source": [
        "<a href=\"https://colab.research.google.com/github/RNAB100/Learning_Pytorch/blob/main/pytorch.ipynb\" target=\"_parent\"><img src=\"https://colab.research.google.com/assets/colab-badge.svg\" alt=\"Open In Colab\"/></a>"
      ]
    },
    {
      "cell_type": "code",
      "source": [
        "import torch\n",
        "import numpy as np\n",
        "\n",
        "if torch.cuda.is_available():\n",
        "  device = torch.device(\"cuda\")\n",
        "  x = torch.ones(5, device = device) #gpu\n",
        "  y = torch.ones(5) #cpu\n",
        "  y = y.to(device) #cpu to gpu\n",
        "  z = x + y\n",
        "  z = z.to(\"cpu\")\n"
      ],
      "metadata": {
        "id": "7MoCLp7USZW5"
      },
      "execution_count": null,
      "outputs": []
    },
    {
      "cell_type": "markdown",
      "source": [
        "**Autograd**"
      ],
      "metadata": {
        "id": "IZdbSxZDrKuC"
      }
    },
    {
      "cell_type": "code",
      "source": [
        "import torch\n",
        "\n",
        "a = torch.tensor([5.], requires_grad = True)\n",
        "b = torch.tensor([6.], requires_grad = True)\n",
        "\n",
        "y = a**3 - b**2\n",
        "print(a)\n",
        "print(b)\n",
        "y.backward()\n",
        "a.grad  #dy/da\n",
        "b.grad  #dy/db\n",
        "print(a.grad)\n",
        "print(b.grad)\n",
        "\n",
        "W = torch.rand(10, 1, requires_grad = True) #gradient func for tracking previous values\n",
        "b = torch.rand(1, requires_grad = True)\n",
        "x = torch.rand(1, 10)\n",
        "output = torch.matmul(x, W) + b #linear reg\n",
        "\n",
        "J = 1 - output\n",
        "J.backward()\n",
        "W.grad\n",
        "b.grad\n",
        "\n",
        "#gradient Descent\n",
        "with torch.no_grad() : #this line is to find only updated values without gradient function\n",
        "  W = W - 0.001 * W.grad.data\n",
        "  b = b - 0.001 * b.grad.data\n",
        "print(W)\n",
        "print(b)"
      ],
      "metadata": {
        "colab": {
          "base_uri": "https://localhost:8080/"
        },
        "id": "FaJGEbQaoi8L",
        "outputId": "55b2c43c-142f-45a9-b5ae-51da2fa1301e"
      },
      "execution_count": null,
      "outputs": [
        {
          "output_type": "stream",
          "name": "stdout",
          "text": [
            "tensor([5.], requires_grad=True)\n",
            "tensor([6.], requires_grad=True)\n",
            "tensor([75.])\n",
            "tensor([-12.])\n",
            "tensor([[0.4285],\n",
            "        [0.4241],\n",
            "        [0.4801],\n",
            "        [0.1894],\n",
            "        [0.0281],\n",
            "        [0.4519],\n",
            "        [0.5558],\n",
            "        [0.3608],\n",
            "        [0.1847],\n",
            "        [0.2995]])\n",
            "tensor([0.6776])\n"
          ]
        }
      ]
    },
    {
      "cell_type": "markdown",
      "source": [
        "**Backpropagation**"
      ],
      "metadata": {
        "id": "ABad1Oig8ZE2"
      }
    },
    {
      "cell_type": "code",
      "source": [
        "import torch\n",
        "\n",
        "x = torch.tensor(1.0)\n",
        "y = torch.tensor(2.0)\n",
        "\n",
        "w = torch.tensor(1.0, requires_grad = True)\n",
        "#forward pass\n",
        "y_hat = w * x\n",
        "loss = (y_hat - y)**2\n",
        "\n",
        "#backward pass\n",
        "loss.backward()\n",
        "print(w.grad)\n"
      ],
      "metadata": {
        "id": "0LCGTKDv8YNj",
        "colab": {
          "base_uri": "https://localhost:8080/"
        },
        "outputId": "8153fd92-a48b-44fe-914d-3ab44d056ab1"
      },
      "execution_count": null,
      "outputs": [
        {
          "output_type": "stream",
          "name": "stdout",
          "text": [
            "tensor(-2.)\n"
          ]
        }
      ]
    },
    {
      "cell_type": "markdown",
      "source": [
        "**Model Implementation with Pytorch**"
      ],
      "metadata": {
        "id": "EcPii1rP2VJu"
      }
    },
    {
      "cell_type": "code",
      "source": [
        "import torch\n",
        "import torch.nn as nn\n",
        "\n",
        "x = torch.tensor([1, 2, 3, 4], dtype = torch.float32)\n",
        "y = torch.tensor([2, 4, 6, 8], dtype = torch.float32)\n",
        "\n",
        "w = torch.tensor(0.0, dtype = torch.float32, requires_grad = True)\n",
        "\n",
        "#forward propagation\n",
        "def forward(x) :\n",
        "  return w * x\n",
        "\n",
        "#training\n",
        "learning_rate = 0.01\n",
        "no_of_iterations = 100\n",
        "\n",
        "loss = nn.MSELoss()\n",
        "optimizer = torch.optim.SGD([w], lr = learning_rate)\n",
        "\n",
        "for epoch in range(no_of_iterations):\n",
        "  y_hat = forward(x)\n",
        "\n",
        "  l = loss(y, y_hat)\n",
        "  #gradient tracks how the loss is genarated\n",
        "  l.backward()\n",
        "\n",
        "  optimizer.step()\n",
        "\n",
        "  #zero_grad\n",
        "  optimizer.zero_grad()\n",
        "\n",
        "  if epoch % 10 == 0:\n",
        "    print(f'Epoch = {epoch + 1} W = {w:.8f} loss = {l:.8f}')\n"
      ],
      "metadata": {
        "colab": {
          "base_uri": "https://localhost:8080/"
        },
        "id": "O9KC-sgZ2fej",
        "outputId": "22e81361-3f30-449a-e62f-3ae5ac79d931"
      },
      "execution_count": null,
      "outputs": [
        {
          "output_type": "stream",
          "name": "stdout",
          "text": [
            "Epoch = 1 W = 0.29999998 loss = 30.00000000\n",
            "Epoch = 11 W = 1.66531360 loss = 1.16278565\n",
            "Epoch = 21 W = 1.93410885 loss = 0.04506890\n",
            "Epoch = 31 W = 1.98702765 loss = 0.00174685\n",
            "Epoch = 41 W = 1.99744618 loss = 0.00006770\n",
            "Epoch = 51 W = 1.99949718 loss = 0.00000262\n",
            "Epoch = 61 W = 1.99990106 loss = 0.00000010\n",
            "Epoch = 71 W = 1.99998045 loss = 0.00000000\n",
            "Epoch = 81 W = 1.99999630 loss = 0.00000000\n",
            "Epoch = 91 W = 1.99999928 loss = 0.00000000\n"
          ]
        }
      ]
    }
  ]
}